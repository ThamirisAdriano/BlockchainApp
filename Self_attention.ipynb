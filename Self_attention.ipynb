{
  "nbformat": 4,
  "nbformat_minor": 0,
  "metadata": {
    "colab": {
      "provenance": [],
      "authorship_tag": "ABX9TyP3X6ZcdsYr4pmZ0d6vVXxi",
      "include_colab_link": true
    },
    "kernelspec": {
      "name": "python3",
      "display_name": "Python 3"
    },
    "language_info": {
      "name": "python"
    }
  },
  "cells": [
    {
      "cell_type": "markdown",
      "metadata": {
        "id": "view-in-github",
        "colab_type": "text"
      },
      "source": [
        "<a href=\"https://colab.research.google.com/github/ThamirisAdriano/BlockchainApp/blob/main/Self_attention.ipynb\" target=\"_parent\"><img src=\"https://colab.research.google.com/assets/colab-badge.svg\" alt=\"Open In Colab\"/></a>"
      ]
    },
    {
      "cell_type": "markdown",
      "source": [
        "###Vamos implementar um exemplo simples de Self-Attention em Python.\n",
        "\n",
        "\n"
      ],
      "metadata": {
        "id": "cuymKShJDtPK"
      }
    },
    {
      "cell_type": "markdown",
      "source": [
        "A função softmax é usada para converter as pontuações em uma distribuição de probabilidade.\n"
      ],
      "metadata": {
        "id": "EGBU0Kj6D-72"
      }
    },
    {
      "cell_type": "code",
      "execution_count": null,
      "metadata": {
        "id": "BAK5mVoADkZL"
      },
      "outputs": [],
      "source": [
        "import numpy as np\n",
        "\n",
        "def softmax(x):\n",
        "    return np.exp(x) / np.sum(np.exp(x), axis=-1, keepdims=True)\n"
      ]
    },
    {
      "cell_type": "code",
      "source": [
        "def self_attention(Q, K, V):\n",
        "    # Calcula as pontuações de atenção\n",
        "    scores = np.dot(Q, K.T)\n",
        "    # Aplica softmax às pontuações\n",
        "    attention_weights = softmax(scores)\n",
        "    # Calcula a saída ponderada\n",
        "    output = np.dot(attention_weights, V)\n",
        "    return output, attention_weights\n",
        "\n",
        "\n"
      ],
      "metadata": {
        "id": "6EpoH-U5D0FJ"
      },
      "execution_count": null,
      "outputs": []
    },
    {
      "cell_type": "markdown",
      "source": [
        "scores: Calcula as pontuações de atenção como o produto escalar de Q e K.\n",
        "\n",
        "attention_weights: Converte as pontuações em pesos de atenção usando softmax.\n",
        "\n",
        "output: Calcula a saída ponderada multiplicando os pesos de atenção pelos valores (V)."
      ],
      "metadata": {
        "id": "x9UaqJeHEMLE"
      }
    },
    {
      "cell_type": "code",
      "source": [
        "# Exemplo de dados de entrada (Q, K, V são iguais para self-attention)\n",
        "X = np.array([\n",
        "    [1, 0, 1],  # Palavra 1\n",
        "    [0, 2, 0],  # Palavra 2\n",
        "    [1, 1, 1]   # Palavra 3\n",
        "])\n",
        "\n",
        "# Aplicando Self-Attention\n",
        "output, attention_weights = self_attention(X, X, X)\n",
        "\n"
      ],
      "metadata": {
        "id": "ZVs-lBvDD2E6"
      },
      "execution_count": null,
      "outputs": []
    },
    {
      "cell_type": "markdown",
      "source": [
        "Matriz de entrada onde cada linha representa a representação vetorial de uma palavra na sequência.\n"
      ],
      "metadata": {
        "id": "3aYprMFZEP9E"
      }
    },
    {
      "cell_type": "code",
      "source": [
        "print(\"Entrada (X):\")\n",
        "print(X)\n",
        "print(\"\\nPesos de Atenção:\")\n",
        "print(attention_weights)\n",
        "print(\"\\nSaída com Self-Attention Aplicada:\")\n",
        "print(output)"
      ],
      "metadata": {
        "colab": {
          "base_uri": "https://localhost:8080/"
        },
        "id": "6duTNvMLD2-a",
        "outputId": "70704d59-c9ed-496d-ad0e-f54d4d065b14"
      },
      "execution_count": null,
      "outputs": [
        {
          "output_type": "stream",
          "name": "stdout",
          "text": [
            "Entrada (X):\n",
            "[[1 0 1]\n",
            " [0 2 0]\n",
            " [1 1 1]]\n",
            "\n",
            "Pesos de Atenção:\n",
            "[[0.46831053 0.06337894 0.46831053]\n",
            " [0.01587624 0.86681333 0.11731043]\n",
            " [0.21194156 0.21194156 0.57611688]]\n",
            "\n",
            "Saída com Self-Attention Aplicada:\n",
            "[[0.93662106 0.59506841 0.93662106]\n",
            " [0.13318667 1.85093709 0.13318667]\n",
            " [0.78805844 1.         0.78805844]]\n"
          ]
        }
      ]
    }
  ]
}